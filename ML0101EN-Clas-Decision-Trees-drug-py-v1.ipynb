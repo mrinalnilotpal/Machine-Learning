{
 "cells": [
  {
   "cell_type": "markdown",
   "metadata": {
    "button": false,
    "deletable": true,
    "new_sheet": false,
    "run_control": {
     "read_only": false
    }
   },
   "source": [
    "<a href=\"https://www.bigdatauniversity.com\"><img src=\"https://ibm.box.com/shared/static/cw2c7r3o20w9zn8gkecaeyjhgw3xdgbj.png\" width=\"400\" align=\"center\"></a>\n",
    "\n",
    "<h1><center>Decision Trees</center></h1>"
   ]
  },
  {
   "cell_type": "markdown",
   "metadata": {
    "button": false,
    "deletable": true,
    "new_sheet": false,
    "run_control": {
     "read_only": false
    }
   },
   "source": [
    "In this lab exercise, you will learn a popular machine learning algorithm, Decision Tree. You will use this classification algorithm to build a model from historical data of patients, and their response to different medications. Then you use the trained decision tree to predict the class of a unknown patient, or to find a proper drug for a new patient."
   ]
  },
  {
   "cell_type": "markdown",
   "metadata": {},
   "source": [
    "<h1>Table of contents</h1>\n",
    "\n",
    "<div class=\"alert alert-block alert-info\" style=\"margin-top: 20px\">\n",
    "    <ol>\n",
    "        <li><a href=\"#about_dataset\">About the dataset</a></li>\n",
    "        <li><a href=\"#downloading_data\">Downloading the Data</a></li>\n",
    "        <li><a href=\"#pre-processing\">Pre-processing</a></li>\n",
    "        <li><a href=\"#setting_up_tree\">Setting up the Decision Tree</a></li>\n",
    "        <li><a href=\"#modeling\">Modeling</a></li>\n",
    "        <li><a href=\"#prediction\">Prediction</a></li>\n",
    "        <li><a href=\"#evaluation\">Evaluation</a></li>\n",
    "        <li><a href=\"#visualization\">Visualization</a></li>\n",
    "    </ol>\n",
    "</div>\n",
    "<br>\n",
    "<hr>"
   ]
  },
  {
   "cell_type": "markdown",
   "metadata": {
    "button": false,
    "deletable": true,
    "new_sheet": false,
    "run_control": {
     "read_only": false
    }
   },
   "source": [
    "Import the Following Libraries:\n",
    "<ul>\n",
    "    <li> <b>numpy (as np)</b> </li>\n",
    "    <li> <b>pandas</b> </li>\n",
    "    <li> <b>DecisionTreeClassifier</b> from <b>sklearn.tree</b> </li>\n",
    "</ul>"
   ]
  },
  {
   "cell_type": "code",
   "execution_count": 10,
   "metadata": {
    "button": false,
    "deletable": true,
    "new_sheet": false,
    "run_control": {
     "read_only": false
    }
   },
   "outputs": [],
   "source": [
    "import numpy as np \n",
    "import pandas as pd\n",
    "from sklearn.tree import DecisionTreeClassifier"
   ]
  },
  {
   "cell_type": "markdown",
   "metadata": {
    "button": false,
    "deletable": true,
    "new_sheet": false,
    "run_control": {
     "read_only": false
    }
   },
   "source": [
    "<div id=\"about_dataset\">\n",
    "    <h2>About the dataset</h2>\n",
    "    Imagine that you are a medical researcher compiling data for a study. You have collected data about a set of patients, all of whom suffered from the same illness. During their course of treatment, each patient responded to one of 5 medications, Drug A, Drug B, Drug c, Drug x and y. \n",
    "    <br>\n",
    "    <br>\n",
    "    Part of your job is to build a model to find out which drug might be appropriate for a future patient with the same illness. The feature sets of this dataset are Age, Sex, Blood Pressure, and Cholesterol of patients, and the target is the drug that each patient responded to.\n",
    "    <br>\n",
    "    <br>\n",
    "    It is a sample of binary classifier, and you can use the training part of the dataset \n",
    "    to build a decision tree, and then use it to predict the class of a unknown patient, or to prescribe it to a new patient.\n",
    "</div>\n"
   ]
  },
  {
   "cell_type": "markdown",
   "metadata": {
    "button": false,
    "deletable": true,
    "new_sheet": false,
    "run_control": {
     "read_only": false
    }
   },
   "source": [
    "<div id=\"downloading_data\"> \n",
    "    <h2>Downloading the Data</h2>\n",
    "    To download the data, we will use !wget to download it from IBM Object Storage.\n",
    "</div>"
   ]
  },
  {
   "cell_type": "code",
   "execution_count": 11,
   "metadata": {},
   "outputs": [
    {
     "name": "stdout",
     "output_type": "stream",
     "text": [
      "--2020-01-25 05:13:38--  https://s3-api.us-geo.objectstorage.softlayer.net/cf-courses-data/CognitiveClass/ML0101ENv3/labs/drug200.csv\n",
      "Resolving s3-api.us-geo.objectstorage.softlayer.net (s3-api.us-geo.objectstorage.softlayer.net)... 67.228.254.196\n",
      "Connecting to s3-api.us-geo.objectstorage.softlayer.net (s3-api.us-geo.objectstorage.softlayer.net)|67.228.254.196|:443... connected.\n",
      "HTTP request sent, awaiting response... 200 OK\n",
      "Length: 6027 (5.9K) [text/csv]\n",
      "Saving to: ‘drug200.csv’\n",
      "\n",
      "drug200.csv         100%[===================>]   5.89K  --.-KB/s    in 0s      \n",
      "\n",
      "2020-01-25 05:13:39 (11.7 MB/s) - ‘drug200.csv’ saved [6027/6027]\n",
      "\n"
     ]
    }
   ],
   "source": [
    "!wget -O drug200.csv https://s3-api.us-geo.objectstorage.softlayer.net/cf-courses-data/CognitiveClass/ML0101ENv3/labs/drug200.csv"
   ]
  },
  {
   "cell_type": "markdown",
   "metadata": {},
   "source": [
    "__Did you know?__ When it comes to Machine Learning, you will likely be working with large datasets. As a business, where can you host your data? IBM is offering a unique opportunity for businesses, with 10 Tb of IBM Cloud Object Storage: [Sign up now for free](http://cocl.us/ML0101EN-IBM-Offer-CC)"
   ]
  },
  {
   "cell_type": "markdown",
   "metadata": {},
   "source": [
    "now, read data using pandas dataframe:"
   ]
  },
  {
   "cell_type": "code",
   "execution_count": 12,
   "metadata": {
    "button": false,
    "deletable": true,
    "new_sheet": false,
    "run_control": {
     "read_only": false
    }
   },
   "outputs": [
    {
     "data": {
      "text/html": [
       "<div>\n",
       "<style scoped>\n",
       "    .dataframe tbody tr th:only-of-type {\n",
       "        vertical-align: middle;\n",
       "    }\n",
       "\n",
       "    .dataframe tbody tr th {\n",
       "        vertical-align: top;\n",
       "    }\n",
       "\n",
       "    .dataframe thead th {\n",
       "        text-align: right;\n",
       "    }\n",
       "</style>\n",
       "<table border=\"1\" class=\"dataframe\">\n",
       "  <thead>\n",
       "    <tr style=\"text-align: right;\">\n",
       "      <th></th>\n",
       "      <th>Age</th>\n",
       "      <th>Sex</th>\n",
       "      <th>BP</th>\n",
       "      <th>Cholesterol</th>\n",
       "      <th>Na_to_K</th>\n",
       "      <th>Drug</th>\n",
       "    </tr>\n",
       "  </thead>\n",
       "  <tbody>\n",
       "    <tr>\n",
       "      <th>0</th>\n",
       "      <td>23</td>\n",
       "      <td>F</td>\n",
       "      <td>HIGH</td>\n",
       "      <td>HIGH</td>\n",
       "      <td>25.355</td>\n",
       "      <td>drugY</td>\n",
       "    </tr>\n",
       "    <tr>\n",
       "      <th>1</th>\n",
       "      <td>47</td>\n",
       "      <td>M</td>\n",
       "      <td>LOW</td>\n",
       "      <td>HIGH</td>\n",
       "      <td>13.093</td>\n",
       "      <td>drugC</td>\n",
       "    </tr>\n",
       "    <tr>\n",
       "      <th>2</th>\n",
       "      <td>47</td>\n",
       "      <td>M</td>\n",
       "      <td>LOW</td>\n",
       "      <td>HIGH</td>\n",
       "      <td>10.114</td>\n",
       "      <td>drugC</td>\n",
       "    </tr>\n",
       "    <tr>\n",
       "      <th>3</th>\n",
       "      <td>28</td>\n",
       "      <td>F</td>\n",
       "      <td>NORMAL</td>\n",
       "      <td>HIGH</td>\n",
       "      <td>7.798</td>\n",
       "      <td>drugX</td>\n",
       "    </tr>\n",
       "    <tr>\n",
       "      <th>4</th>\n",
       "      <td>61</td>\n",
       "      <td>F</td>\n",
       "      <td>LOW</td>\n",
       "      <td>HIGH</td>\n",
       "      <td>18.043</td>\n",
       "      <td>drugY</td>\n",
       "    </tr>\n",
       "  </tbody>\n",
       "</table>\n",
       "</div>"
      ],
      "text/plain": [
       "   Age Sex      BP Cholesterol  Na_to_K   Drug\n",
       "0   23   F    HIGH        HIGH   25.355  drugY\n",
       "1   47   M     LOW        HIGH   13.093  drugC\n",
       "2   47   M     LOW        HIGH   10.114  drugC\n",
       "3   28   F  NORMAL        HIGH    7.798  drugX\n",
       "4   61   F     LOW        HIGH   18.043  drugY"
      ]
     },
     "execution_count": 12,
     "metadata": {},
     "output_type": "execute_result"
    }
   ],
   "source": [
    "my_data = pd.read_csv(\"drug200.csv\", delimiter=\",\")\n",
    "my_data.head()"
   ]
  },
  {
   "cell_type": "markdown",
   "metadata": {
    "button": false,
    "deletable": true,
    "new_sheet": false,
    "run_control": {
     "read_only": false
    }
   },
   "source": [
    "<div id=\"practice\"> \n",
    "    <h3>Practice</h3> \n",
    "    What is the size of data? \n",
    "</div>"
   ]
  },
  {
   "cell_type": "code",
   "execution_count": 9,
   "metadata": {
    "button": false,
    "deletable": true,
    "new_sheet": false,
    "run_control": {
     "read_only": false
    }
   },
   "outputs": [
    {
     "ename": "TypeError",
     "evalue": "'numpy.int64' object is not callable",
     "output_type": "error",
     "traceback": [
      "\u001b[0;31m---------------------------------------------------------------------------\u001b[0m",
      "\u001b[0;31mTypeError\u001b[0m                                 Traceback (most recent call last)",
      "\u001b[0;32m<ipython-input-9-4fc1f4f409d0>\u001b[0m in \u001b[0;36m<module>\u001b[0;34m\u001b[0m\n\u001b[1;32m      1\u001b[0m \u001b[0;31m# write your code here\u001b[0m\u001b[0;34m\u001b[0m\u001b[0;34m\u001b[0m\u001b[0;34m\u001b[0m\u001b[0m\n\u001b[1;32m      2\u001b[0m \u001b[0;34m\u001b[0m\u001b[0m\n\u001b[0;32m----> 3\u001b[0;31m \u001b[0mmy_data\u001b[0m\u001b[0;34m.\u001b[0m\u001b[0msize\u001b[0m\u001b[0;34m(\u001b[0m\u001b[0;34m)\u001b[0m\u001b[0;34m\u001b[0m\u001b[0;34m\u001b[0m\u001b[0m\n\u001b[0m",
      "\u001b[0;31mTypeError\u001b[0m: 'numpy.int64' object is not callable"
     ]
    }
   ],
   "source": [
    "# write your code here\n",
    "\n",
    "my_data.size()\n"
   ]
  },
  {
   "cell_type": "markdown",
   "metadata": {},
   "source": [
    "<div href=\"pre-processing\">\n",
    "    <h2>Pre-processing</h2>\n",
    "</div>"
   ]
  },
  {
   "cell_type": "markdown",
   "metadata": {
    "button": false,
    "deletable": true,
    "new_sheet": false,
    "run_control": {
     "read_only": false
    }
   },
   "source": [
    "Using <b>my_data</b> as the Drug.csv data read by pandas, declare the following variables: <br>\n",
    "\n",
    "<ul>\n",
    "    <li> <b> X </b> as the <b> Feature Matrix </b> (data of my_data) </li>\n",
    "    <li> <b> y </b> as the <b> response vector (target) </b> </li>\n",
    "</ul>"
   ]
  },
  {
   "cell_type": "markdown",
   "metadata": {
    "button": false,
    "deletable": true,
    "new_sheet": false,
    "run_control": {
     "read_only": false
    }
   },
   "source": [
    "Remove the column containing the target name since it doesn't contain numeric values."
   ]
  },
  {
   "cell_type": "code",
   "execution_count": 13,
   "metadata": {},
   "outputs": [
    {
     "data": {
      "text/plain": [
       "array([[23, 'F', 'HIGH', 'HIGH', 25.355],\n",
       "       [47, 'M', 'LOW', 'HIGH', 13.093],\n",
       "       [47, 'M', 'LOW', 'HIGH', 10.113999999999999],\n",
       "       [28, 'F', 'NORMAL', 'HIGH', 7.797999999999999],\n",
       "       [61, 'F', 'LOW', 'HIGH', 18.043],\n",
       "       [22, 'F', 'NORMAL', 'HIGH', 8.607000000000001],\n",
       "       [49, 'F', 'NORMAL', 'HIGH', 16.275],\n",
       "       [41, 'M', 'LOW', 'HIGH', 11.037],\n",
       "       [60, 'M', 'NORMAL', 'HIGH', 15.171],\n",
       "       [43, 'M', 'LOW', 'NORMAL', 19.368],\n",
       "       [47, 'F', 'LOW', 'HIGH', 11.767000000000001],\n",
       "       [34, 'F', 'HIGH', 'NORMAL', 19.199],\n",
       "       [43, 'M', 'LOW', 'HIGH', 15.376],\n",
       "       [74, 'F', 'LOW', 'HIGH', 20.941999999999997],\n",
       "       [50, 'F', 'NORMAL', 'HIGH', 12.703],\n",
       "       [16, 'F', 'HIGH', 'NORMAL', 15.515999999999998],\n",
       "       [69, 'M', 'LOW', 'NORMAL', 11.455],\n",
       "       [43, 'M', 'HIGH', 'HIGH', 13.972000000000001],\n",
       "       [23, 'M', 'LOW', 'HIGH', 7.297999999999999],\n",
       "       [32, 'F', 'HIGH', 'NORMAL', 25.974],\n",
       "       [57, 'M', 'LOW', 'NORMAL', 19.128],\n",
       "       [63, 'M', 'NORMAL', 'HIGH', 25.916999999999998],\n",
       "       [47, 'M', 'LOW', 'NORMAL', 30.568],\n",
       "       [48, 'F', 'LOW', 'HIGH', 15.036],\n",
       "       [33, 'F', 'LOW', 'HIGH', 33.486],\n",
       "       [28, 'F', 'HIGH', 'NORMAL', 18.809],\n",
       "       [31, 'M', 'HIGH', 'HIGH', 30.366],\n",
       "       [49, 'F', 'NORMAL', 'NORMAL', 9.381],\n",
       "       [39, 'F', 'LOW', 'NORMAL', 22.697],\n",
       "       [45, 'M', 'LOW', 'HIGH', 17.951],\n",
       "       [18, 'F', 'NORMAL', 'NORMAL', 8.75],\n",
       "       [74, 'M', 'HIGH', 'HIGH', 9.567],\n",
       "       [49, 'M', 'LOW', 'NORMAL', 11.014000000000001],\n",
       "       [65, 'F', 'HIGH', 'NORMAL', 31.875999999999998],\n",
       "       [53, 'M', 'NORMAL', 'HIGH', 14.133],\n",
       "       [46, 'M', 'NORMAL', 'NORMAL', 7.285],\n",
       "       [32, 'M', 'HIGH', 'NORMAL', 9.445],\n",
       "       [39, 'M', 'LOW', 'NORMAL', 13.937999999999999],\n",
       "       [39, 'F', 'NORMAL', 'NORMAL', 9.709],\n",
       "       [15, 'M', 'NORMAL', 'HIGH', 9.084],\n",
       "       [73, 'F', 'NORMAL', 'HIGH', 19.221],\n",
       "       [58, 'F', 'HIGH', 'NORMAL', 14.239],\n",
       "       [50, 'M', 'NORMAL', 'NORMAL', 15.79],\n",
       "       [23, 'M', 'NORMAL', 'HIGH', 12.26],\n",
       "       [50, 'F', 'NORMAL', 'NORMAL', 12.295],\n",
       "       [66, 'F', 'NORMAL', 'NORMAL', 8.107000000000001],\n",
       "       [37, 'F', 'HIGH', 'HIGH', 13.091],\n",
       "       [68, 'M', 'LOW', 'HIGH', 10.290999999999999],\n",
       "       [23, 'M', 'NORMAL', 'HIGH', 31.686],\n",
       "       [28, 'F', 'LOW', 'HIGH', 19.796],\n",
       "       [58, 'F', 'HIGH', 'HIGH', 19.416],\n",
       "       [67, 'M', 'NORMAL', 'NORMAL', 10.898],\n",
       "       [62, 'M', 'LOW', 'NORMAL', 27.183000000000003],\n",
       "       [24, 'F', 'HIGH', 'NORMAL', 18.457],\n",
       "       [68, 'F', 'HIGH', 'NORMAL', 10.189],\n",
       "       [26, 'F', 'LOW', 'HIGH', 14.16],\n",
       "       [65, 'M', 'HIGH', 'NORMAL', 11.34],\n",
       "       [40, 'M', 'HIGH', 'HIGH', 27.826],\n",
       "       [60, 'M', 'NORMAL', 'NORMAL', 10.091000000000001],\n",
       "       [34, 'M', 'HIGH', 'HIGH', 18.703],\n",
       "       [38, 'F', 'LOW', 'NORMAL', 29.875],\n",
       "       [24, 'M', 'HIGH', 'NORMAL', 9.475],\n",
       "       [67, 'M', 'LOW', 'NORMAL', 20.693],\n",
       "       [45, 'M', 'LOW', 'NORMAL', 8.37],\n",
       "       [60, 'F', 'HIGH', 'HIGH', 13.302999999999999],\n",
       "       [68, 'F', 'NORMAL', 'NORMAL', 27.05],\n",
       "       [29, 'M', 'HIGH', 'HIGH', 12.856],\n",
       "       [17, 'M', 'NORMAL', 'NORMAL', 10.832],\n",
       "       [54, 'M', 'NORMAL', 'HIGH', 24.658],\n",
       "       [18, 'F', 'HIGH', 'NORMAL', 24.276],\n",
       "       [70, 'M', 'HIGH', 'HIGH', 13.967],\n",
       "       [28, 'F', 'NORMAL', 'HIGH', 19.675],\n",
       "       [24, 'F', 'NORMAL', 'HIGH', 10.605],\n",
       "       [41, 'F', 'NORMAL', 'NORMAL', 22.905],\n",
       "       [31, 'M', 'HIGH', 'NORMAL', 17.069000000000003],\n",
       "       [26, 'M', 'LOW', 'NORMAL', 20.909000000000002],\n",
       "       [36, 'F', 'HIGH', 'HIGH', 11.198],\n",
       "       [26, 'F', 'HIGH', 'NORMAL', 19.160999999999998],\n",
       "       [19, 'F', 'HIGH', 'HIGH', 13.312999999999999],\n",
       "       [32, 'F', 'LOW', 'NORMAL', 10.84],\n",
       "       [60, 'M', 'HIGH', 'HIGH', 13.934000000000001],\n",
       "       [64, 'M', 'NORMAL', 'HIGH', 7.761],\n",
       "       [32, 'F', 'LOW', 'HIGH', 9.712],\n",
       "       [38, 'F', 'HIGH', 'NORMAL', 11.325999999999999],\n",
       "       [47, 'F', 'LOW', 'HIGH', 10.067],\n",
       "       [59, 'M', 'HIGH', 'HIGH', 13.935],\n",
       "       [51, 'F', 'NORMAL', 'HIGH', 13.597000000000001],\n",
       "       [69, 'M', 'LOW', 'HIGH', 15.478],\n",
       "       [37, 'F', 'HIGH', 'NORMAL', 23.090999999999998],\n",
       "       [50, 'F', 'NORMAL', 'NORMAL', 17.211],\n",
       "       [62, 'M', 'NORMAL', 'HIGH', 16.594],\n",
       "       [41, 'M', 'HIGH', 'NORMAL', 15.155999999999999],\n",
       "       [29, 'F', 'HIGH', 'HIGH', 29.45],\n",
       "       [42, 'F', 'LOW', 'NORMAL', 29.271],\n",
       "       [56, 'M', 'LOW', 'HIGH', 15.015],\n",
       "       [36, 'M', 'LOW', 'NORMAL', 11.424000000000001],\n",
       "       [58, 'F', 'LOW', 'HIGH', 38.247],\n",
       "       [56, 'F', 'HIGH', 'HIGH', 25.395],\n",
       "       [20, 'M', 'HIGH', 'NORMAL', 35.639],\n",
       "       [15, 'F', 'HIGH', 'NORMAL', 16.725],\n",
       "       [31, 'M', 'HIGH', 'NORMAL', 11.870999999999999],\n",
       "       [45, 'F', 'HIGH', 'HIGH', 12.854000000000001],\n",
       "       [28, 'F', 'LOW', 'HIGH', 13.127],\n",
       "       [56, 'M', 'NORMAL', 'HIGH', 8.966000000000001],\n",
       "       [22, 'M', 'HIGH', 'NORMAL', 28.294],\n",
       "       [37, 'M', 'LOW', 'NORMAL', 8.968],\n",
       "       [22, 'M', 'NORMAL', 'HIGH', 11.953],\n",
       "       [42, 'M', 'LOW', 'HIGH', 20.012999999999998],\n",
       "       [72, 'M', 'HIGH', 'NORMAL', 9.677],\n",
       "       [23, 'M', 'NORMAL', 'HIGH', 16.85],\n",
       "       [50, 'M', 'HIGH', 'HIGH', 7.49],\n",
       "       [47, 'F', 'NORMAL', 'NORMAL', 6.683],\n",
       "       [35, 'M', 'LOW', 'NORMAL', 9.17],\n",
       "       [65, 'F', 'LOW', 'NORMAL', 13.769],\n",
       "       [20, 'F', 'NORMAL', 'NORMAL', 9.281],\n",
       "       [51, 'M', 'HIGH', 'HIGH', 18.295],\n",
       "       [67, 'M', 'NORMAL', 'NORMAL', 9.514],\n",
       "       [40, 'F', 'NORMAL', 'HIGH', 10.103],\n",
       "       [32, 'F', 'HIGH', 'NORMAL', 10.292],\n",
       "       [61, 'F', 'HIGH', 'HIGH', 25.475],\n",
       "       [28, 'M', 'NORMAL', 'HIGH', 27.064],\n",
       "       [15, 'M', 'HIGH', 'NORMAL', 17.206],\n",
       "       [34, 'M', 'NORMAL', 'HIGH', 22.456],\n",
       "       [36, 'F', 'NORMAL', 'HIGH', 16.753],\n",
       "       [53, 'F', 'HIGH', 'NORMAL', 12.495],\n",
       "       [19, 'F', 'HIGH', 'NORMAL', 25.969],\n",
       "       [66, 'M', 'HIGH', 'HIGH', 16.347],\n",
       "       [35, 'M', 'NORMAL', 'NORMAL', 7.845],\n",
       "       [47, 'M', 'LOW', 'NORMAL', 33.542],\n",
       "       [32, 'F', 'NORMAL', 'HIGH', 7.477],\n",
       "       [70, 'F', 'NORMAL', 'HIGH', 20.489],\n",
       "       [52, 'M', 'LOW', 'NORMAL', 32.922],\n",
       "       [49, 'M', 'LOW', 'NORMAL', 13.597999999999999],\n",
       "       [24, 'M', 'NORMAL', 'HIGH', 25.785999999999998],\n",
       "       [42, 'F', 'HIGH', 'HIGH', 21.035999999999998],\n",
       "       [74, 'M', 'LOW', 'NORMAL', 11.939],\n",
       "       [55, 'F', 'HIGH', 'HIGH', 10.977],\n",
       "       [35, 'F', 'HIGH', 'HIGH', 12.894],\n",
       "       [51, 'M', 'HIGH', 'NORMAL', 11.343],\n",
       "       [69, 'F', 'NORMAL', 'HIGH', 10.065],\n",
       "       [49, 'M', 'HIGH', 'NORMAL', 6.269],\n",
       "       [64, 'F', 'LOW', 'NORMAL', 25.741],\n",
       "       [60, 'M', 'HIGH', 'NORMAL', 8.621],\n",
       "       [74, 'M', 'HIGH', 'NORMAL', 15.436],\n",
       "       [39, 'M', 'HIGH', 'HIGH', 9.664],\n",
       "       [61, 'M', 'NORMAL', 'HIGH', 9.443],\n",
       "       [37, 'F', 'LOW', 'NORMAL', 12.005999999999998],\n",
       "       [26, 'F', 'HIGH', 'NORMAL', 12.307],\n",
       "       [61, 'F', 'LOW', 'NORMAL', 7.34],\n",
       "       [22, 'M', 'LOW', 'HIGH', 8.151],\n",
       "       [49, 'M', 'HIGH', 'NORMAL', 8.7],\n",
       "       [68, 'M', 'HIGH', 'HIGH', 11.009],\n",
       "       [55, 'M', 'NORMAL', 'NORMAL', 7.261],\n",
       "       [72, 'F', 'LOW', 'NORMAL', 14.642000000000001],\n",
       "       [37, 'M', 'LOW', 'NORMAL', 16.724],\n",
       "       [49, 'M', 'LOW', 'HIGH', 10.537],\n",
       "       [31, 'M', 'HIGH', 'NORMAL', 11.227],\n",
       "       [53, 'M', 'LOW', 'HIGH', 22.963],\n",
       "       [59, 'F', 'LOW', 'HIGH', 10.444],\n",
       "       [34, 'F', 'LOW', 'NORMAL', 12.923],\n",
       "       [30, 'F', 'NORMAL', 'HIGH', 10.443],\n",
       "       [57, 'F', 'HIGH', 'NORMAL', 9.945],\n",
       "       [43, 'M', 'NORMAL', 'NORMAL', 12.859000000000002],\n",
       "       [21, 'F', 'HIGH', 'NORMAL', 28.631999999999998],\n",
       "       [16, 'M', 'HIGH', 'NORMAL', 19.007],\n",
       "       [38, 'M', 'LOW', 'HIGH', 18.295],\n",
       "       [58, 'F', 'LOW', 'HIGH', 26.645],\n",
       "       [57, 'F', 'NORMAL', 'HIGH', 14.216],\n",
       "       [51, 'F', 'LOW', 'NORMAL', 23.003],\n",
       "       [20, 'F', 'HIGH', 'HIGH', 11.262],\n",
       "       [28, 'F', 'NORMAL', 'HIGH', 12.879000000000001],\n",
       "       [45, 'M', 'LOW', 'NORMAL', 10.017000000000001],\n",
       "       [39, 'F', 'NORMAL', 'NORMAL', 17.225],\n",
       "       [41, 'F', 'LOW', 'NORMAL', 18.739],\n",
       "       [42, 'M', 'HIGH', 'NORMAL', 12.765999999999998],\n",
       "       [73, 'F', 'HIGH', 'HIGH', 18.348],\n",
       "       [48, 'M', 'HIGH', 'NORMAL', 10.446],\n",
       "       [25, 'M', 'NORMAL', 'HIGH', 19.011],\n",
       "       [39, 'M', 'NORMAL', 'HIGH', 15.969000000000001],\n",
       "       [67, 'F', 'NORMAL', 'HIGH', 15.890999999999998],\n",
       "       [22, 'F', 'HIGH', 'NORMAL', 22.818],\n",
       "       [59, 'F', 'NORMAL', 'HIGH', 13.884],\n",
       "       [20, 'F', 'LOW', 'NORMAL', 11.686],\n",
       "       [36, 'F', 'HIGH', 'NORMAL', 15.49],\n",
       "       [18, 'F', 'HIGH', 'HIGH', 37.188],\n",
       "       [57, 'F', 'NORMAL', 'NORMAL', 25.893],\n",
       "       [70, 'M', 'HIGH', 'HIGH', 9.849],\n",
       "       [47, 'M', 'HIGH', 'HIGH', 10.402999999999999],\n",
       "       [65, 'M', 'HIGH', 'NORMAL', 34.997],\n",
       "       [64, 'M', 'HIGH', 'NORMAL', 20.932],\n",
       "       [58, 'M', 'HIGH', 'HIGH', 18.991],\n",
       "       [23, 'M', 'HIGH', 'HIGH', 8.011000000000001],\n",
       "       [72, 'M', 'LOW', 'HIGH', 16.31],\n",
       "       [72, 'M', 'LOW', 'HIGH', 6.769],\n",
       "       [46, 'F', 'HIGH', 'HIGH', 34.686],\n",
       "       [56, 'F', 'LOW', 'HIGH', 11.567],\n",
       "       [16, 'M', 'LOW', 'HIGH', 12.005999999999998],\n",
       "       [52, 'M', 'NORMAL', 'HIGH', 9.894],\n",
       "       [23, 'M', 'NORMAL', 'NORMAL', 14.02],\n",
       "       [40, 'F', 'LOW', 'NORMAL', 11.349]], dtype=object)"
      ]
     },
     "execution_count": 13,
     "metadata": {},
     "output_type": "execute_result"
    }
   ],
   "source": [
    "X = my_data[['Age', 'Sex', 'BP', 'Cholesterol', 'Na_to_K']].values\n",
    "X"
   ]
  },
  {
   "cell_type": "markdown",
   "metadata": {},
   "source": [
    "As you may figure out, some features in this dataset are categorical such as __Sex__ or __BP__. Unfortunately, Sklearn Decision Trees do not handle categorical variables. But still we can convert these features to numerical values. __pandas.get_dummies()__\n",
    "Convert categorical variable into dummy/indicator variables."
   ]
  },
  {
   "cell_type": "code",
   "execution_count": 14,
   "metadata": {},
   "outputs": [
    {
     "data": {
      "text/plain": [
       "array([[23, 0, 0, 0, 25.355],\n",
       "       [47, 1, 1, 0, 13.093],\n",
       "       [47, 1, 1, 0, 10.113999999999999],\n",
       "       [28, 0, 2, 0, 7.797999999999999],\n",
       "       [61, 0, 1, 0, 18.043]], dtype=object)"
      ]
     },
     "execution_count": 14,
     "metadata": {},
     "output_type": "execute_result"
    }
   ],
   "source": [
    "from sklearn import preprocessing\n",
    "le_sex = preprocessing.LabelEncoder()\n",
    "le_sex.fit(['F','M'])\n",
    "X[:,1] = le_sex.transform(X[:,1]) \n",
    "\n",
    "\n",
    "le_BP = preprocessing.LabelEncoder()\n",
    "le_BP.fit([ 'LOW', 'NORMAL', 'HIGH'])\n",
    "X[:,2] = le_BP.transform(X[:,2])\n",
    "\n",
    "\n",
    "le_Chol = preprocessing.LabelEncoder()\n",
    "le_Chol.fit([ 'NORMAL', 'HIGH'])\n",
    "X[:,3] = le_Chol.transform(X[:,3]) \n",
    "\n",
    "X[0:5]\n"
   ]
  },
  {
   "cell_type": "markdown",
   "metadata": {},
   "source": [
    "Now we can fill the target variable."
   ]
  },
  {
   "cell_type": "code",
   "execution_count": 15,
   "metadata": {
    "button": false,
    "deletable": true,
    "new_sheet": false,
    "run_control": {
     "read_only": false
    }
   },
   "outputs": [
    {
     "data": {
      "text/plain": [
       "0    drugY\n",
       "1    drugC\n",
       "2    drugC\n",
       "3    drugX\n",
       "4    drugY\n",
       "Name: Drug, dtype: object"
      ]
     },
     "execution_count": 15,
     "metadata": {},
     "output_type": "execute_result"
    }
   ],
   "source": [
    "y = my_data[\"Drug\"]\n",
    "y[0:5]"
   ]
  },
  {
   "cell_type": "markdown",
   "metadata": {
    "button": false,
    "deletable": true,
    "new_sheet": false,
    "run_control": {
     "read_only": false
    }
   },
   "source": [
    "<hr>\n",
    "\n",
    "<div id=\"setting_up_tree\">\n",
    "    <h2>Setting up the Decision Tree</h2>\n",
    "    We will be using <b>train/test split</b> on our <b>decision tree</b>. Let's import <b>train_test_split</b> from <b>sklearn.cross_validation</b>.\n",
    "</div>"
   ]
  },
  {
   "cell_type": "code",
   "execution_count": 16,
   "metadata": {
    "button": false,
    "deletable": true,
    "new_sheet": false,
    "run_control": {
     "read_only": false
    }
   },
   "outputs": [],
   "source": [
    "from sklearn.model_selection import train_test_split"
   ]
  },
  {
   "cell_type": "markdown",
   "metadata": {
    "button": false,
    "deletable": true,
    "new_sheet": false,
    "run_control": {
     "read_only": false
    }
   },
   "source": [
    "Now <b> train_test_split </b> will return 4 different parameters. We will name them:<br>\n",
    "X_trainset, X_testset, y_trainset, y_testset <br> <br>\n",
    "The <b> train_test_split </b> will need the parameters: <br>\n",
    "X, y, test_size=0.3, and random_state=3. <br> <br>\n",
    "The <b>X</b> and <b>y</b> are the arrays required before the split, the <b>test_size</b> represents the ratio of the testing dataset, and the <b>random_state</b> ensures that we obtain the same splits."
   ]
  },
  {
   "cell_type": "code",
   "execution_count": 17,
   "metadata": {
    "button": false,
    "deletable": true,
    "new_sheet": false,
    "run_control": {
     "read_only": false
    }
   },
   "outputs": [],
   "source": [
    "X_trainset, X_testset, y_trainset, y_testset = train_test_split(X, y, test_size=0.3, random_state=3)"
   ]
  },
  {
   "cell_type": "markdown",
   "metadata": {
    "button": false,
    "deletable": true,
    "new_sheet": false,
    "run_control": {
     "read_only": false
    }
   },
   "source": [
    "<h3>Practice</h3>\n",
    "Print the shape of X_trainset and y_trainset. Ensure that the dimensions match"
   ]
  },
  {
   "cell_type": "code",
   "execution_count": null,
   "metadata": {
    "button": false,
    "deletable": true,
    "new_sheet": false,
    "run_control": {
     "read_only": false
    }
   },
   "outputs": [],
   "source": [
    "# your code\n",
    "\n"
   ]
  },
  {
   "cell_type": "markdown",
   "metadata": {
    "button": false,
    "deletable": true,
    "new_sheet": false,
    "run_control": {
     "read_only": false
    }
   },
   "source": [
    "Print the shape of X_testset and y_testset. Ensure that the dimensions match"
   ]
  },
  {
   "cell_type": "code",
   "execution_count": null,
   "metadata": {
    "button": false,
    "deletable": true,
    "new_sheet": false,
    "run_control": {
     "read_only": false
    }
   },
   "outputs": [],
   "source": [
    "# your code\n",
    "\n"
   ]
  },
  {
   "cell_type": "markdown",
   "metadata": {
    "button": false,
    "deletable": true,
    "new_sheet": false,
    "run_control": {
     "read_only": false
    }
   },
   "source": [
    "<hr>\n",
    "\n",
    "<div id=\"modeling\">\n",
    "    <h2>Modeling</h2>\n",
    "    We will first create an instance of the <b>DecisionTreeClassifier</b> called <b>drugTree</b>.<br>\n",
    "    Inside of the classifier, specify <i> criterion=\"entropy\" </i> so we can see the information gain of each node.\n",
    "</div>"
   ]
  },
  {
   "cell_type": "code",
   "execution_count": 18,
   "metadata": {
    "button": false,
    "deletable": true,
    "new_sheet": false,
    "run_control": {
     "read_only": false
    }
   },
   "outputs": [
    {
     "data": {
      "text/plain": [
       "DecisionTreeClassifier(class_weight=None, criterion='entropy', max_depth=4,\n",
       "            max_features=None, max_leaf_nodes=None,\n",
       "            min_impurity_decrease=0.0, min_impurity_split=None,\n",
       "            min_samples_leaf=1, min_samples_split=2,\n",
       "            min_weight_fraction_leaf=0.0, presort=False, random_state=None,\n",
       "            splitter='best')"
      ]
     },
     "execution_count": 18,
     "metadata": {},
     "output_type": "execute_result"
    }
   ],
   "source": [
    "drugTree = DecisionTreeClassifier(criterion=\"entropy\", max_depth = 4)\n",
    "drugTree # it shows the default parameters"
   ]
  },
  {
   "cell_type": "markdown",
   "metadata": {
    "button": false,
    "deletable": true,
    "new_sheet": false,
    "run_control": {
     "read_only": false
    }
   },
   "source": [
    "Next, we will fit the data with the training feature matrix <b> X_trainset </b> and training  response vector <b> y_trainset </b>"
   ]
  },
  {
   "cell_type": "code",
   "execution_count": 19,
   "metadata": {
    "button": false,
    "deletable": true,
    "new_sheet": false,
    "run_control": {
     "read_only": false
    }
   },
   "outputs": [
    {
     "data": {
      "text/plain": [
       "DecisionTreeClassifier(class_weight=None, criterion='entropy', max_depth=4,\n",
       "            max_features=None, max_leaf_nodes=None,\n",
       "            min_impurity_decrease=0.0, min_impurity_split=None,\n",
       "            min_samples_leaf=1, min_samples_split=2,\n",
       "            min_weight_fraction_leaf=0.0, presort=False, random_state=None,\n",
       "            splitter='best')"
      ]
     },
     "execution_count": 19,
     "metadata": {},
     "output_type": "execute_result"
    }
   ],
   "source": [
    "drugTree.fit(X_trainset,y_trainset)"
   ]
  },
  {
   "cell_type": "markdown",
   "metadata": {
    "button": false,
    "deletable": true,
    "new_sheet": false,
    "run_control": {
     "read_only": false
    }
   },
   "source": [
    "<hr>\n",
    "\n",
    "<div id=\"prediction\">\n",
    "    <h2>Prediction</h2>\n",
    "    Let's make some <b>predictions</b> on the testing dataset and store it into a variable called <b>predTree</b>.\n",
    "</div>"
   ]
  },
  {
   "cell_type": "code",
   "execution_count": null,
   "metadata": {
    "button": false,
    "collapsed": true,
    "deletable": true,
    "jupyter": {
     "outputs_hidden": true
    },
    "new_sheet": false,
    "run_control": {
     "read_only": false
    }
   },
   "outputs": [],
   "source": [
    "predTree = drugTree.predict(X_testset)"
   ]
  },
  {
   "cell_type": "markdown",
   "metadata": {
    "button": false,
    "deletable": true,
    "new_sheet": false,
    "run_control": {
     "read_only": false
    }
   },
   "source": [
    "You can print out <b>predTree</b> and <b>y_testset</b> if you want to visually compare the prediction to the actual values."
   ]
  },
  {
   "cell_type": "code",
   "execution_count": null,
   "metadata": {
    "button": false,
    "collapsed": true,
    "deletable": true,
    "jupyter": {
     "outputs_hidden": true
    },
    "new_sheet": false,
    "run_control": {
     "read_only": false
    },
    "scrolled": true
   },
   "outputs": [],
   "source": [
    "print (predTree [0:5])\n",
    "print (y_testset [0:5])\n"
   ]
  },
  {
   "cell_type": "markdown",
   "metadata": {
    "button": false,
    "deletable": true,
    "new_sheet": false,
    "run_control": {
     "read_only": false
    }
   },
   "source": [
    "<hr>\n",
    "\n",
    "<div id=\"evaluation\">\n",
    "    <h2>Evaluation</h2>\n",
    "    Next, let's import <b>metrics</b> from sklearn and check the accuracy of our model.\n",
    "</div>"
   ]
  },
  {
   "cell_type": "code",
   "execution_count": null,
   "metadata": {
    "button": false,
    "collapsed": true,
    "deletable": true,
    "jupyter": {
     "outputs_hidden": true
    },
    "new_sheet": false,
    "run_control": {
     "read_only": false
    }
   },
   "outputs": [],
   "source": [
    "from sklearn import metrics\n",
    "import matplotlib.pyplot as plt\n",
    "print(\"DecisionTrees's Accuracy: \", metrics.accuracy_score(y_testset, predTree))"
   ]
  },
  {
   "cell_type": "markdown",
   "metadata": {
    "button": false,
    "deletable": true,
    "new_sheet": false,
    "run_control": {
     "read_only": false
    }
   },
   "source": [
    "__Accuracy classification score__ computes subset accuracy: the set of labels predicted for a sample must exactly match the corresponding set of labels in y_true.  \n",
    "\n",
    "In multilabel classification, the function returns the subset accuracy. If the entire set of predicted labels for a sample strictly match with the true set of labels, then the subset accuracy is 1.0; otherwise it is 0.0.\n"
   ]
  },
  {
   "cell_type": "markdown",
   "metadata": {
    "button": false,
    "deletable": true,
    "new_sheet": false,
    "run_control": {
     "read_only": false
    }
   },
   "source": [
    "## Practice \n",
    "Can you calculate the accuracy score without sklearn ?"
   ]
  },
  {
   "cell_type": "code",
   "execution_count": null,
   "metadata": {
    "button": false,
    "collapsed": true,
    "deletable": true,
    "jupyter": {
     "outputs_hidden": true
    },
    "new_sheet": false,
    "run_control": {
     "read_only": false
    }
   },
   "outputs": [],
   "source": [
    "# your code here\n"
   ]
  },
  {
   "cell_type": "markdown",
   "metadata": {},
   "source": [
    "<hr>\n",
    "\n",
    "<div id=\"visualization\">\n",
    "    <h2>Visualization</h2>\n",
    "    Lets visualize the tree\n",
    "</div>"
   ]
  },
  {
   "cell_type": "code",
   "execution_count": null,
   "metadata": {},
   "outputs": [],
   "source": [
    "# Notice: You might need to uncomment and install the pydotplus and graphviz libraries if you have not installed these before\n",
    "# !conda install -c conda-forge pydotplus -y\n",
    "# !conda install -c conda-forge python-graphviz -y"
   ]
  },
  {
   "cell_type": "code",
   "execution_count": null,
   "metadata": {
    "button": false,
    "collapsed": true,
    "deletable": true,
    "jupyter": {
     "outputs_hidden": true
    },
    "new_sheet": false,
    "run_control": {
     "read_only": false
    }
   },
   "outputs": [],
   "source": [
    "from sklearn.externals.six import StringIO\n",
    "import pydotplus\n",
    "import matplotlib.image as mpimg\n",
    "from sklearn import tree\n",
    "%matplotlib inline "
   ]
  },
  {
   "cell_type": "code",
   "execution_count": null,
   "metadata": {
    "button": false,
    "collapsed": true,
    "deletable": true,
    "jupyter": {
     "outputs_hidden": true
    },
    "new_sheet": false,
    "run_control": {
     "read_only": false
    }
   },
   "outputs": [],
   "source": [
    "dot_data = StringIO()\n",
    "filename = \"drugtree.png\"\n",
    "featureNames = my_data.columns[0:5]\n",
    "targetNames = my_data[\"Drug\"].unique().tolist()\n",
    "out=tree.export_graphviz(drugTree,feature_names=featureNames, out_file=dot_data, class_names= np.unique(y_trainset), filled=True,  special_characters=True,rotate=False)  \n",
    "graph = pydotplus.graph_from_dot_data(dot_data.getvalue())  \n",
    "graph.write_png(filename)\n",
    "img = mpimg.imread(filename)\n",
    "plt.figure(figsize=(100, 200))\n",
    "plt.imshow(img,interpolation='nearest')"
   ]
  },
  {
   "cell_type": "markdown",
   "metadata": {
    "button": false,
    "deletable": true,
    "new_sheet": false,
    "run_control": {
     "read_only": false
    }
   },
   "source": [
    "<h2>Want to learn more?</h2>\n",
    "\n",
    "IBM SPSS Modeler is a comprehensive analytics platform that has many machine learning algorithms. It has been designed to bring predictive intelligence to decisions made by individuals, by groups, by systems – by your enterprise as a whole. A free trial is available through this course, available here: <a href=\"http://cocl.us/ML0101EN-SPSSModeler\">SPSS Modeler</a>\n",
    "\n",
    "Also, you can use Watson Studio to run these notebooks faster with bigger datasets. Watson Studio is IBM's leading cloud solution for data scientists, built by data scientists. With Jupyter notebooks, RStudio, Apache Spark and popular libraries pre-packaged in the cloud, Watson Studio enables data scientists to collaborate on their projects without having to install anything. Join the fast-growing community of Watson Studio users today with a free account at <a href=\"https://cocl.us/ML0101EN_DSX\">Watson Studio</a>\n",
    "\n",
    "<h3>Thanks for completing this lesson!</h3>\n",
    "\n",
    "<h4>Author:  <a href=\"https://ca.linkedin.com/in/saeedaghabozorgi\">Saeed Aghabozorgi</a></h4>\n",
    "<p><a href=\"https://ca.linkedin.com/in/saeedaghabozorgi\">Saeed Aghabozorgi</a>, PhD is a Data Scientist in IBM with a track record of developing enterprise level applications that substantially increases clients’ ability to turn data into actionable knowledge. He is a researcher in data mining field and expert in developing advanced analytic methods like machine learning and statistical modelling on large datasets.</p>\n",
    "\n",
    "<hr>\n",
    "\n",
    "<p>Copyright &copy; 2018 <a href=\"https://cocl.us/DX0108EN_CC\">Cognitive Class</a>. This notebook and its source code are released under the terms of the <a href=\"https://bigdatauniversity.com/mit-license/\">MIT License</a>.</p>"
   ]
  }
 ],
 "metadata": {
  "anaconda-cloud": {},
  "kernelspec": {
   "display_name": "Python",
   "language": "python",
   "name": "conda-env-python-py"
  },
  "language_info": {
   "codemirror_mode": {
    "name": "ipython",
    "version": 3
   },
   "file_extension": ".py",
   "mimetype": "text/x-python",
   "name": "python",
   "nbconvert_exporter": "python",
   "pygments_lexer": "ipython3",
   "version": "3.6.7"
  },
  "widgets": {
   "state": {},
   "version": "1.1.2"
  }
 },
 "nbformat": 4,
 "nbformat_minor": 4
}
